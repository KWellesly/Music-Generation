{
 "cells": [
  {
   "cell_type": "code",
   "execution_count": 5,
   "metadata": {},
   "outputs": [],
   "source": [
    "import tensorflow as tf\n",
    "import numpy as np\n",
    "import keras\n",
    "from keras.datasets import mnist\n",
    "from keras.layers import Input, Dense, Reshape, Flatten, Dropout, Conv2DTranspose\n",
    "from keras.layers import BatchNormalization, Activation, ZeroPadding2D\n",
    "from keras.layers.advanced_activations import LeakyReLU\n",
    "from keras.layers.convolutional import UpSampling2D, Conv2D\n",
    "from keras.models import Sequential, Model\n",
    "from keras.optimizers import Adam"
   ]
  },
  {
   "cell_type": "code",
   "execution_count": 3,
   "metadata": {},
   "outputs": [],
   "source": [
    "## Generator Network ##\n",
    "gen_model = Sequential()\n",
    "gen_model.add(Dense())"
   ]
  },
  {
   "cell_type": "code",
   "execution_count": null,
   "metadata": {},
   "outputs": [],
   "source": [
    "# Discriminator\n",
    "self.D = Sequential()\n",
    "depth = 64\n",
    "dropout = 0.4\n",
    "# In: 28 x 28 x 1, depth = 1\n",
    "# Out: 14 x 14 x 1, depth=64\n",
    "input_shape = (self.img_rows, self.img_cols, self.channel)\n",
    "self.D.add(Conv2D(depth*1, 5, strides=2, input_shape=input_shape,\\\n",
    "padding='same', activation=LeakyReLU(alpha=0.2)))\n",
    "self.D.add(Dropout(dropout))\n",
    "self.D.add(Conv2D(depth*2, 5, strides=2, padding='same',\\\n",
    "activation=LeakyReLU(alpha=0.2)))\n",
    "self.D.add(Dropout(dropout))\n",
    "self.D.add(Conv2D(depth*4, 5, strides=2, padding='same',\\\n",
    "activation=LeakyReLU(alpha=0.2)))\n",
    "self.D.add(Dropout(dropout))\n",
    "self.D.add(Conv2D(depth*8, 5, strides=1, padding='same',\\\n",
    "activation=LeakyReLU(alpha=0.2)))\n",
    "self.D.add(Dropout(dropout))\n",
    "# Out: 1-dim probability\n",
    "self.D.add(Flatten())\n",
    "self.D.add(Dense(1))\n",
    "self.D.add(Activation('sigmoid'))\n",
    "self.D.summary()"
   ]
  },
  {
   "cell_type": "code",
   "execution_count": null,
   "metadata": {},
   "outputs": [],
   "source": [
    "self.G = Sequential()\n",
    "dropout = 0.4\n",
    "depth = 64+64+64+64 #256\n",
    "dim = 7\n",
    "# In: 100\n",
    "# Out: dim x dim x depth\n",
    "self.G.add(Dense(dim*dim*depth, input_dim=100))\n",
    "self.G.add(BatchNormalization(momentum=0.9))\n",
    "self.G.add(Activation('relu'))\n",
    "self.G.add(Reshape((dim, dim, depth)))\n",
    "self.G.add(Dropout(dropout))\n",
    "# In: dim x dim x depth\n",
    "# Out: 2*dim x 2*dim x depth/2\n",
    "self.G.add(UpSampling2D())\n",
    "self.G.add(Conv2DTranspose(int(depth/2), 5, padding='same'))\n",
    "self.G.add(BatchNormalization(momentum=0.9))\n",
    "self.G.add(Activation('relu'))\n",
    "self.G.add(UpSampling2D())\n",
    "self.G.add(Conv2DTranspose(int(depth/4), 5, padding='same'))\n",
    "self.G.add(BatchNormalization(momentum=0.9))\n",
    "self.G.add(Activation('relu'))\n",
    "self.G.add(Conv2DTranspose(int(depth/8), 5, padding='same'))\n",
    "self.G.add(BatchNormalization(momentum=0.9))\n",
    "self.G.add(Activation('relu'))\n",
    "# Out: 28 x 28 x 1 grayscale image [0.0,1.0] per pix\n",
    "self.G.add(Conv2DTranspose(1, 5, padding='same'))\n",
    "self.G.add(Activation('sigmoid'))\n",
    "self.G.summary()\n",
    "return self.G"
   ]
  },
  {
   "cell_type": "code",
   "execution_count": 24,
   "metadata": {},
   "outputs": [
    {
     "name": "stdout",
     "output_type": "stream",
     "text": [
      "Tensor(\"dropout_20/cond/Merge:0\", shape=(?, 7, 7, 256), dtype=float32)\n",
      "Tensor(\"up_sampling2d_28/ResizeNearestNeighbor:0\", shape=(?, 14, 14, 256), dtype=float32)\n",
      "Tensor(\"conv2d_transpose_31/BiasAdd:0\", shape=(?, ?, ?, 128), dtype=float32)\n",
      "Tensor(\"up_sampling2d_29/ResizeNearestNeighbor:0\", shape=(?, 28, 28, 128), dtype=float32)\n",
      "Tensor(\"conv2d_transpose_32/BiasAdd:0\", shape=(?, ?, ?, 64), dtype=float32)\n"
     ]
    }
   ],
   "source": [
    "## Test on MNIST data\n",
    "## Input = 100\n",
    "## Output = dim * dim * depth\n",
    "dim = 7\n",
    "depth = 256\n",
    "\n",
    "model = Sequential()\n",
    "model.add(Dense(dim * dim * depth, input_dim=100))\n",
    "model.add(LeakyReLU())\n",
    "model.add(Reshape((dim, dim, depth)))\n",
    "model.add(Dropout(0.2))\n",
    "print(model.output)\n",
    "model.add(UpSampling2D())\n",
    "print(model.output)\n",
    "## Conv2DTranspose = inverse of a convolutional layer\n",
    "model.add(Conv2DTranspose(filters=128, kernel_size=(4, 4), strides=1, padding='same'))\n",
    "print(model.output)\n",
    "model.add(LeakyReLU())\n",
    "model.add(UpSampling2D())\n",
    "print(model.output)\n",
    "model.add(Conv2DTranspose(filters=64, kernel_size=(4, 4), strides=1, padding='same'))\n",
    "print (model.output)\n",
    "model.add(LeakyReLU())\n",
    "model.add(Conv2DTranspose(filters=32, kernel_size=(4, 4), strides=1, padding='same'))\n",
    "model.add(LeakyReLU())\n",
    "model.add(Conv2DTranspose(filters=1, kernel_size=(4, 4), strides=1, padding='same'))\n",
    "model.add(Activation('sigmoid'))\n",
    "model.compile(loss='binary_crossentropy', optimizer='rmsprop', metrics=['accuracy'])"
   ]
  },
  {
   "cell_type": "code",
   "execution_count": 43,
   "metadata": {},
   "outputs": [
    {
     "ename": "ValueError",
     "evalue": "Error when checking target: expected activation_3 to have 4 dimensions, but got array with shape (2, 1)",
     "output_type": "error",
     "traceback": [
      "\u001b[1;31m---------------------------------------------------------------------------\u001b[0m",
      "\u001b[1;31mValueError\u001b[0m                                Traceback (most recent call last)",
      "\u001b[1;32m<ipython-input-43-f105c9eb89f9>\u001b[0m in \u001b[0;36m<module>\u001b[1;34m()\u001b[0m\n\u001b[0;32m      4\u001b[0m \u001b[0mtest\u001b[0m \u001b[1;33m=\u001b[0m \u001b[1;33m[\u001b[0m\u001b[0mtest\u001b[0m\u001b[1;33m]\u001b[0m\u001b[1;33m\u001b[0m\u001b[0m\n\u001b[0;32m      5\u001b[0m \u001b[0mtest\u001b[0m \u001b[1;33m=\u001b[0m \u001b[0mnp\u001b[0m\u001b[1;33m.\u001b[0m\u001b[0masarray\u001b[0m\u001b[1;33m(\u001b[0m\u001b[0mtest\u001b[0m\u001b[1;33m)\u001b[0m\u001b[1;33m\u001b[0m\u001b[0m\n\u001b[1;32m----> 6\u001b[1;33m \u001b[0mmodel\u001b[0m\u001b[1;33m.\u001b[0m\u001b[0mfit\u001b[0m\u001b[1;33m(\u001b[0m\u001b[0mtest\u001b[0m\u001b[1;33m,\u001b[0m \u001b[0mtest_y\u001b[0m\u001b[1;33m)\u001b[0m\u001b[1;33m\u001b[0m\u001b[0m\n\u001b[0m\u001b[0;32m      7\u001b[0m \u001b[1;31m# test.shape\u001b[0m\u001b[1;33m\u001b[0m\u001b[1;33m\u001b[0m\u001b[0m\n",
      "\u001b[1;32mc:\\users\\kevin\\anaconda3\\envs\\tensorflow\\lib\\site-packages\\keras\\models.py\u001b[0m in \u001b[0;36mfit\u001b[1;34m(self, x, y, batch_size, epochs, verbose, callbacks, validation_split, validation_data, shuffle, class_weight, sample_weight, initial_epoch, steps_per_epoch, validation_steps, **kwargs)\u001b[0m\n\u001b[0;32m    958\u001b[0m                               \u001b[0minitial_epoch\u001b[0m\u001b[1;33m=\u001b[0m\u001b[0minitial_epoch\u001b[0m\u001b[1;33m,\u001b[0m\u001b[1;33m\u001b[0m\u001b[0m\n\u001b[0;32m    959\u001b[0m                               \u001b[0msteps_per_epoch\u001b[0m\u001b[1;33m=\u001b[0m\u001b[0msteps_per_epoch\u001b[0m\u001b[1;33m,\u001b[0m\u001b[1;33m\u001b[0m\u001b[0m\n\u001b[1;32m--> 960\u001b[1;33m                               validation_steps=validation_steps)\n\u001b[0m\u001b[0;32m    961\u001b[0m \u001b[1;33m\u001b[0m\u001b[0m\n\u001b[0;32m    962\u001b[0m     def evaluate(self, x, y, batch_size=32, verbose=1,\n",
      "\u001b[1;32mc:\\users\\kevin\\anaconda3\\envs\\tensorflow\\lib\\site-packages\\keras\\engine\\training.py\u001b[0m in \u001b[0;36mfit\u001b[1;34m(self, x, y, batch_size, epochs, verbose, callbacks, validation_split, validation_data, shuffle, class_weight, sample_weight, initial_epoch, steps_per_epoch, validation_steps, **kwargs)\u001b[0m\n\u001b[0;32m   1579\u001b[0m             \u001b[0mclass_weight\u001b[0m\u001b[1;33m=\u001b[0m\u001b[0mclass_weight\u001b[0m\u001b[1;33m,\u001b[0m\u001b[1;33m\u001b[0m\u001b[0m\n\u001b[0;32m   1580\u001b[0m             \u001b[0mcheck_batch_axis\u001b[0m\u001b[1;33m=\u001b[0m\u001b[1;32mFalse\u001b[0m\u001b[1;33m,\u001b[0m\u001b[1;33m\u001b[0m\u001b[0m\n\u001b[1;32m-> 1581\u001b[1;33m             batch_size=batch_size)\n\u001b[0m\u001b[0;32m   1582\u001b[0m         \u001b[1;31m# Prepare validation data.\u001b[0m\u001b[1;33m\u001b[0m\u001b[1;33m\u001b[0m\u001b[0m\n\u001b[0;32m   1583\u001b[0m         \u001b[0mdo_validation\u001b[0m \u001b[1;33m=\u001b[0m \u001b[1;32mFalse\u001b[0m\u001b[1;33m\u001b[0m\u001b[0m\n",
      "\u001b[1;32mc:\\users\\kevin\\anaconda3\\envs\\tensorflow\\lib\\site-packages\\keras\\engine\\training.py\u001b[0m in \u001b[0;36m_standardize_user_data\u001b[1;34m(self, x, y, sample_weight, class_weight, check_batch_axis, batch_size)\u001b[0m\n\u001b[0;32m   1416\u001b[0m                                     \u001b[0moutput_shapes\u001b[0m\u001b[1;33m,\u001b[0m\u001b[1;33m\u001b[0m\u001b[0m\n\u001b[0;32m   1417\u001b[0m                                     \u001b[0mcheck_batch_axis\u001b[0m\u001b[1;33m=\u001b[0m\u001b[1;32mFalse\u001b[0m\u001b[1;33m,\u001b[0m\u001b[1;33m\u001b[0m\u001b[0m\n\u001b[1;32m-> 1418\u001b[1;33m                                     exception_prefix='target')\n\u001b[0m\u001b[0;32m   1419\u001b[0m         sample_weights = _standardize_sample_weights(sample_weight,\n\u001b[0;32m   1420\u001b[0m                                                      self._feed_output_names)\n",
      "\u001b[1;32mc:\\users\\kevin\\anaconda3\\envs\\tensorflow\\lib\\site-packages\\keras\\engine\\training.py\u001b[0m in \u001b[0;36m_standardize_input_data\u001b[1;34m(data, names, shapes, check_batch_axis, exception_prefix)\u001b[0m\n\u001b[0;32m    139\u001b[0m                                  \u001b[1;34m' to have '\u001b[0m \u001b[1;33m+\u001b[0m \u001b[0mstr\u001b[0m\u001b[1;33m(\u001b[0m\u001b[0mlen\u001b[0m\u001b[1;33m(\u001b[0m\u001b[0mshapes\u001b[0m\u001b[1;33m[\u001b[0m\u001b[0mi\u001b[0m\u001b[1;33m]\u001b[0m\u001b[1;33m)\u001b[0m\u001b[1;33m)\u001b[0m \u001b[1;33m+\u001b[0m\u001b[1;33m\u001b[0m\u001b[0m\n\u001b[0;32m    140\u001b[0m                                  \u001b[1;34m' dimensions, but got array with shape '\u001b[0m \u001b[1;33m+\u001b[0m\u001b[1;33m\u001b[0m\u001b[0m\n\u001b[1;32m--> 141\u001b[1;33m                                  str(array.shape))\n\u001b[0m\u001b[0;32m    142\u001b[0m             \u001b[1;32mfor\u001b[0m \u001b[0mj\u001b[0m\u001b[1;33m,\u001b[0m \u001b[1;33m(\u001b[0m\u001b[0mdim\u001b[0m\u001b[1;33m,\u001b[0m \u001b[0mref_dim\u001b[0m\u001b[1;33m)\u001b[0m \u001b[1;32min\u001b[0m \u001b[0menumerate\u001b[0m\u001b[1;33m(\u001b[0m\u001b[0mzip\u001b[0m\u001b[1;33m(\u001b[0m\u001b[0marray\u001b[0m\u001b[1;33m.\u001b[0m\u001b[0mshape\u001b[0m\u001b[1;33m,\u001b[0m \u001b[0mshapes\u001b[0m\u001b[1;33m[\u001b[0m\u001b[0mi\u001b[0m\u001b[1;33m]\u001b[0m\u001b[1;33m)\u001b[0m\u001b[1;33m)\u001b[0m\u001b[1;33m:\u001b[0m\u001b[1;33m\u001b[0m\u001b[0m\n\u001b[0;32m    143\u001b[0m                 \u001b[1;32mif\u001b[0m \u001b[1;32mnot\u001b[0m \u001b[0mj\u001b[0m \u001b[1;32mand\u001b[0m \u001b[1;32mnot\u001b[0m \u001b[0mcheck_batch_axis\u001b[0m\u001b[1;33m:\u001b[0m\u001b[1;33m\u001b[0m\u001b[0m\n",
      "\u001b[1;31mValueError\u001b[0m: Error when checking target: expected activation_3 to have 4 dimensions, but got array with shape (2, 1)"
     ]
    }
   ],
   "source": [
    "test = np.random.rand(100)\n",
    "test = [test]\n",
    "test = np.asarray(test)\n",
    "# test.shape"
   ]
  },
  {
   "cell_type": "code",
   "execution_count": 26,
   "metadata": {},
   "outputs": [],
   "source": [
    "model = Sequential()\n",
    "model.add(UpSampling2D(size=(2, 2), input_shape=(1, 16, 16)))\n",
    "model.build()\n",
    "# keras_param_test(model, 0, 3)"
   ]
  },
  {
   "cell_type": "code",
   "execution_count": 27,
   "metadata": {},
   "outputs": [
    {
     "data": {
      "text/plain": [
       "<tf.Tensor 'up_sampling2d_3/ResizeNearestNeighbor:0' shape=(?, 2, 32, 16) dtype=float32>"
      ]
     },
     "execution_count": 27,
     "metadata": {},
     "output_type": "execute_result"
    }
   ],
   "source": [
    "model.output"
   ]
  },
  {
   "cell_type": "code",
   "execution_count": null,
   "metadata": {},
   "outputs": [],
   "source": []
  }
 ],
 "metadata": {
  "kernelspec": {
   "display_name": "Python 3",
   "language": "python",
   "name": "python3"
  },
  "language_info": {
   "codemirror_mode": {
    "name": "ipython",
    "version": 3
   },
   "file_extension": ".py",
   "mimetype": "text/x-python",
   "name": "python",
   "nbconvert_exporter": "python",
   "pygments_lexer": "ipython3",
   "version": "3.5.4"
  }
 },
 "nbformat": 4,
 "nbformat_minor": 2
}
