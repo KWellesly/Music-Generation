{
 "cells": [
  {
   "cell_type": "code",
   "execution_count": 2,
   "metadata": {},
   "outputs": [
    {
     "name": "stderr",
     "output_type": "stream",
     "text": [
      "c:\\users\\kevin\\anaconda3\\envs\\tensorflow\\lib\\site-packages\\h5py\\__init__.py:36: FutureWarning: Conversion of the second argument of issubdtype from `float` to `np.floating` is deprecated. In future, it will be treated as `np.float64 == np.dtype(float).type`.\n",
      "  from ._conv import register_converters as _register_converters\n",
      "Using TensorFlow backend.\n"
     ]
    }
   ],
   "source": [
    "import tensorflow as tf\n",
    "import numpy as np\n",
    "import keras\n",
    "from keras.datasets import mnist\n",
    "from keras.layers import Input, Dense, Reshape, Flatten, Dropout\n",
    "from keras.layers import BatchNormalization, Activation, ZeroPadding2D\n",
    "from keras.layers.advanced_activations import LeakyReLU\n",
    "from keras.layers.convolutional import UpSampling2D, Conv2D\n",
    "from keras.models import Sequential, Model\n",
    "from keras.optimizers import Adam"
   ]
  },
  {
   "cell_type": "code",
   "execution_count": 3,
   "metadata": {},
   "outputs": [],
   "source": [
    "## Generator Network ##\n",
    "gen_model = Sequential()\n",
    "gen_model.add(Dense())"
   ]
  },
  {
   "cell_type": "code",
   "execution_count": null,
   "metadata": {},
   "outputs": [],
   "source": [
    "# Discriminator\n",
    "self.D = Sequential()\n",
    "depth = 64\n",
    "dropout = 0.4\n",
    "# In: 28 x 28 x 1, depth = 1\n",
    "# Out: 14 x 14 x 1, depth=64\n",
    "input_shape = (self.img_rows, self.img_cols, self.channel)\n",
    "self.D.add(Conv2D(depth*1, 5, strides=2, input_shape=input_shape,\\\n",
    "padding='same', activation=LeakyReLU(alpha=0.2)))\n",
    "self.D.add(Dropout(dropout))\n",
    "self.D.add(Conv2D(depth*2, 5, strides=2, padding='same',\\\n",
    "activation=LeakyReLU(alpha=0.2)))\n",
    "self.D.add(Dropout(dropout))\n",
    "self.D.add(Conv2D(depth*4, 5, strides=2, padding='same',\\\n",
    "activation=LeakyReLU(alpha=0.2)))\n",
    "self.D.add(Dropout(dropout))\n",
    "self.D.add(Conv2D(depth*8, 5, strides=1, padding='same',\\\n",
    "activation=LeakyReLU(alpha=0.2)))\n",
    "self.D.add(Dropout(dropout))\n",
    "# Out: 1-dim probability\n",
    "self.D.add(Flatten())\n",
    "self.D.add(Dense(1))\n",
    "self.D.add(Activation('sigmoid'))\n",
    "self.D.summary()"
   ]
  },
  {
   "cell_type": "code",
   "execution_count": null,
   "metadata": {},
   "outputs": [],
   "source": [
    "self.G = Sequential()\n",
    "dropout = 0.4\n",
    "depth = 64+64+64+64 #256\n",
    "dim = 7\n",
    "# In: 100\n",
    "# Out: dim x dim x depth\n",
    "self.G.add(Dense(dim*dim*depth, input_dim=100))\n",
    "self.G.add(BatchNormalization(momentum=0.9))\n",
    "self.G.add(Activation('relu'))\n",
    "self.G.add(Reshape((dim, dim, depth)))\n",
    "self.G.add(Dropout(dropout))\n",
    "# In: dim x dim x depth\n",
    "# Out: 2*dim x 2*dim x depth/2\n",
    "self.G.add(UpSampling2D())\n",
    "self.G.add(Conv2DTranspose(int(depth/2), 5, padding='same'))\n",
    "self.G.add(BatchNormalization(momentum=0.9))\n",
    "self.G.add(Activation('relu'))\n",
    "self.G.add(UpSampling2D())\n",
    "self.G.add(Conv2DTranspose(int(depth/4), 5, padding='same'))\n",
    "self.G.add(BatchNormalization(momentum=0.9))\n",
    "self.G.add(Activation('relu'))\n",
    "self.G.add(Conv2DTranspose(int(depth/8), 5, padding='same'))\n",
    "self.G.add(BatchNormalization(momentum=0.9))\n",
    "self.G.add(Activation('relu'))\n",
    "# Out: 28 x 28 x 1 grayscale image [0.0,1.0] per pix\n",
    "self.G.add(Conv2DTranspose(1, 5, padding='same'))\n",
    "self.G.add(Activation('sigmoid'))\n",
    "self.G.summary()\n",
    "return self.G"
   ]
  },
  {
   "cell_type": "code",
   "execution_count": 6,
   "metadata": {},
   "outputs": [],
   "source": [
    "test = np.random.rand(100)"
   ]
  },
  {
   "cell_type": "code",
   "execution_count": 30,
   "metadata": {},
   "outputs": [
    {
     "name": "stdout",
     "output_type": "stream",
     "text": [
      "Tensor(\"dropout_2/cond/Merge:0\", shape=(?, 7, 7, 256), dtype=float32)\n",
      "Tensor(\"up_sampling2d_5/ResizeNearestNeighbor:0\", shape=(?, 14, 14, 256), dtype=float32)\n"
     ]
    }
   ],
   "source": [
    "## Test on MNIST data\n",
    "## Input = 100\n",
    "## Output = dim * dim * depth\n",
    "dim = 7\n",
    "depth = 256\n",
    "\n",
    "model = Sequential()\n",
    "model.add(Dense(dim * dim * depth, input_dim=100))\n",
    "model.add(LeakyReLU())\n",
    "model.add(Reshape((dim, dim, depth)))\n",
    "model.add(Dropout(0.2))\n",
    "print(model.output)\n",
    "model.add(UpSampling2D())\n",
    "print(model.output)"
   ]
  },
  {
   "cell_type": "code",
   "execution_count": 29,
   "metadata": {},
   "outputs": [
    {
     "data": {
      "text/plain": [
       "<tf.Tensor 'up_sampling2d_4/ResizeNearestNeighbor:0' shape=(?, 14, 14, 256) dtype=float32>"
      ]
     },
     "execution_count": 29,
     "metadata": {},
     "output_type": "execute_result"
    }
   ],
   "source": [
    "model.output"
   ]
  },
  {
   "cell_type": "code",
   "execution_count": 18,
   "metadata": {},
   "outputs": [
    {
     "data": {
      "text/plain": [
       "3136"
      ]
     },
     "execution_count": 18,
     "metadata": {},
     "output_type": "execute_result"
    }
   ],
   "source": [
    "7 * 7 * 64"
   ]
  },
  {
   "cell_type": "code",
   "execution_count": 26,
   "metadata": {},
   "outputs": [],
   "source": [
    "model = Sequential()\n",
    "model.add(UpSampling2D(size=(2, 2), input_shape=(1, 16, 16)))\n",
    "model.build()\n",
    "# keras_param_test(model, 0, 3)"
   ]
  },
  {
   "cell_type": "code",
   "execution_count": 27,
   "metadata": {},
   "outputs": [
    {
     "data": {
      "text/plain": [
       "<tf.Tensor 'up_sampling2d_3/ResizeNearestNeighbor:0' shape=(?, 2, 32, 16) dtype=float32>"
      ]
     },
     "execution_count": 27,
     "metadata": {},
     "output_type": "execute_result"
    }
   ],
   "source": [
    "model.output"
   ]
  },
  {
   "cell_type": "code",
   "execution_count": null,
   "metadata": {},
   "outputs": [],
   "source": []
  }
 ],
 "metadata": {
  "kernelspec": {
   "display_name": "Python 3",
   "language": "python",
   "name": "python3"
  },
  "language_info": {
   "codemirror_mode": {
    "name": "ipython",
    "version": 3
   },
   "file_extension": ".py",
   "mimetype": "text/x-python",
   "name": "python",
   "nbconvert_exporter": "python",
   "pygments_lexer": "ipython3",
   "version": "3.5.4"
  }
 },
 "nbformat": 4,
 "nbformat_minor": 2
}
